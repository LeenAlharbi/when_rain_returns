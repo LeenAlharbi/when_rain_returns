{
 "cells": [
  {
   "cell_type": "markdown",
   "id": "9c47c571-503b-4958-8fca-75162f533974",
   "metadata": {},
   "source": [
    "## When Rain Returns: A Climate Forecast of Hope\n",
    "### Objective: Explore rainfall changes in six Saudi cities (1980-2018), build a predictive model for 2050 under two scenarios:\n",
    "- Scenario A: Continuation of current trends\n",
    "- Scenario B: Improvement via Saudi Green Initiative (SGI)"
   ]
  },
  {
   "cell_type": "markdown",
   "id": "5729d850-b131-4b47-b372-716efee2d77d",
   "metadata": {},
   "source": [
    "# Project Overview\n",
    "#### - Data cleaning & preparation\n",
    "#### - Exploratory analysis & visualization\n",
    "#### - Predictive modeling (Linear Regression) - Scenario simulation & storytelling"
   ]
  },
  {
   "cell_type": "markdown",
   "id": "562cc541-a946-4772-a4e0-aa54a011d7b9",
   "metadata": {},
   "source": [
    "# Team Roles\n",
    "- Leader: Coordination & scenario design\n",
    "- Member 1: Data cleaning\n",
    "- Member 2: Time series analysis & plots\n",
    "- Member 3: Model training & forecasting\n",
    "- Member 4: Presentation design & narrative"
   ]
  },
  {
   "cell_type": "markdown",
   "id": "fad764b2-c56c-4128-a6e2-fe0a55eee2ad",
   "metadata": {},
   "source": [
    "#### Import Libraries"
   ]
  },
  {
   "cell_type": "code",
   "execution_count": null,
   "id": "72b1206e-5977-443e-857b-6647598b1415",
   "metadata": {},
   "outputs": [],
   "source": [
    "import pandas as pd\n",
    "import numpy as np\n",
    "import matplotlib.pyplot as plt\n",
    "from sklearn.linear_model import LinearRegression\n",
    "from datetime import datetime"
   ]
  },
  {
   "cell_type": "code",
   "execution_count": null,
   "id": "c54fed0a-ad72-43e7-be2c-f64c62968325",
   "metadata": {},
   "outputs": [],
   "source": [
    "# Load Dataset\n",
    "\n",
    "df = pd.read_csv('climate_data_daily_filled_complete.csv', parse_dates=['date'])\n",
    "df.head()"
   ]
  },
  {
   "cell_type": "markdown",
   "id": "2b82c61c-51e8-45d6-b0a8-bc63ffd73b2d",
   "metadata": {},
   "source": [
    "# Step 1 - Data Cleaning"
   ]
  },
  {
   "cell_type": "code",
   "execution_count": null,
   "id": "89ca81ef-3357-4010-a5a4-a7df1a7fb7d7",
   "metadata": {},
   "outputs": [],
   "source": []
  },
  {
   "cell_type": "code",
   "execution_count": null,
   "id": "af1706cc-55d0-4673-82d5-71662f6a5510",
   "metadata": {},
   "outputs": [],
   "source": []
  },
  {
   "cell_type": "code",
   "execution_count": null,
   "id": "3d81e7ab-9682-43b8-85de-685b509e5608",
   "metadata": {},
   "outputs": [],
   "source": []
  },
  {
   "cell_type": "code",
   "execution_count": null,
   "id": "79d9322c-b6c2-4d07-adbe-cc55f98178ab",
   "metadata": {},
   "outputs": [],
   "source": []
  },
  {
   "cell_type": "markdown",
   "id": "7b3e8554-2e7f-4cf8-9fb6-4dbf3f218dbf",
   "metadata": {},
   "source": [
    "# Step 2 - Time Period Segmentation"
   ]
  },
  {
   "cell_type": "markdown",
   "id": "c83069b2-e8ad-4566-9148-fdac009790df",
   "metadata": {},
   "source": [
    "Divide years into:\n",
    "- 1980-1995: Early stable period\n",
    "- 1996-2005: Climate shift begins\n",
    "- 2006-2018: Current climate reality"
   ]
  },
  {
   "cell_type": "markdown",
   "id": "f3e7c761-a546-45a4-a97f-e6bec3f41e04",
   "metadata": {},
   "source": [
    "#### Compute average rainfall per city for each period."
   ]
  },
  {
   "cell_type": "code",
   "execution_count": null,
   "id": "9e32516d-c7e0-4503-bcab-328d6c035a77",
   "metadata": {},
   "outputs": [],
   "source": []
  },
  {
   "cell_type": "code",
   "execution_count": null,
   "id": "00e10955-8e14-4844-ba65-c25049a0c224",
   "metadata": {},
   "outputs": [],
   "source": []
  },
  {
   "cell_type": "code",
   "execution_count": null,
   "id": "7f12b1fe-dba9-4e82-bce7-df411a9b8f76",
   "metadata": {},
   "outputs": [],
   "source": []
  },
  {
   "cell_type": "code",
   "execution_count": null,
   "id": "95cc1f13-6513-482b-8e4e-b467951d0464",
   "metadata": {},
   "outputs": [],
   "source": []
  },
  {
   "cell_type": "code",
   "execution_count": null,
   "id": "42039fca-5380-4662-abfe-8f345af1b143",
   "metadata": {},
   "outputs": [],
   "source": []
  },
  {
   "cell_type": "markdown",
   "id": "8e7e71ea-c40e-471c-a59a-5f12a22e22a4",
   "metadata": {},
   "source": [
    "# Step 3 - Exploratory Analysis & Visualization"
   ]
  },
  {
   "cell_type": "code",
   "execution_count": null,
   "id": "6afeac7b-b6e2-4a08-9f0b-81724baf99ed",
   "metadata": {},
   "outputs": [],
   "source": []
  },
  {
   "cell_type": "code",
   "execution_count": null,
   "id": "9003bb9d-d472-4be4-9761-b65d70112626",
   "metadata": {},
   "outputs": [],
   "source": []
  },
  {
   "cell_type": "code",
   "execution_count": null,
   "id": "c14c0607-e8d6-4fe8-a582-56dd3a4dac6a",
   "metadata": {},
   "outputs": [],
   "source": []
  },
  {
   "cell_type": "code",
   "execution_count": null,
   "id": "0f8eeb61-7567-4373-8f68-fcf6348dd782",
   "metadata": {},
   "outputs": [],
   "source": []
  },
  {
   "cell_type": "markdown",
   "id": "607159aa-86b6-4a46-89d6-531e7bdc47c2",
   "metadata": {},
   "source": [
    "# Step 4 - Forecasting Model"
   ]
  },
  {
   "cell_type": "markdown",
   "id": "10145618-da38-457d-b5ad-0184ab4ee25e",
   "metadata": {},
   "source": [
    "Use Linear Regression to forecast year 2050:\n",
    "- Train on annual averages (1980-2018)\n",
    "- Scenario A: base trend\n",
    "- Scenario B: improved trend (e.g., 30% reduction in slope)"
   ]
  },
  {
   "cell_type": "code",
   "execution_count": null,
   "id": "6fcfa13b-c8bf-4055-a944-c3399d060acf",
   "metadata": {},
   "outputs": [],
   "source": []
  },
  {
   "cell_type": "code",
   "execution_count": null,
   "id": "695e2bc5-66d9-4c1a-8999-64f9aded52ef",
   "metadata": {},
   "outputs": [],
   "source": []
  },
  {
   "cell_type": "code",
   "execution_count": null,
   "id": "3eb811db-63d6-419d-99b4-93bdecc6cedd",
   "metadata": {},
   "outputs": [],
   "source": []
  },
  {
   "cell_type": "code",
   "execution_count": null,
   "id": "e3576bbe-ff20-4b92-bdb7-a2516c7661c7",
   "metadata": {},
   "outputs": [],
   "source": []
  },
  {
   "cell_type": "markdown",
   "id": "e984df32-9a14-4148-93ef-d66b08c11a3e",
   "metadata": {},
   "source": [
    "# Step 5 - Visual Output"
   ]
  },
  {
   "cell_type": "markdown",
   "id": "86013742-ede3-4d57-aed3-33c03c2bbad7",
   "metadata": {},
   "source": [
    "Plot forecasts vs historical:\n",
    "- Historical series\n",
    "- Lines for Scenario A & B for 2050"
   ]
  },
  {
   "cell_type": "code",
   "execution_count": null,
   "id": "df1dbede-4770-44c0-9353-1ececbb1ca1f",
   "metadata": {},
   "outputs": [],
   "source": []
  },
  {
   "cell_type": "code",
   "execution_count": null,
   "id": "949ee81d-ccf5-4cc7-a649-d7c6c27319c3",
   "metadata": {},
   "outputs": [],
   "source": []
  },
  {
   "cell_type": "code",
   "execution_count": null,
   "id": "bb62ac5f-925d-49fe-84c4-3b6e5d72c77b",
   "metadata": {},
   "outputs": [],
   "source": []
  },
  {
   "cell_type": "code",
   "execution_count": null,
   "id": "66ee60fa-40c3-4e07-9fd1-013d85da7cd8",
   "metadata": {},
   "outputs": [],
   "source": []
  },
  {
   "cell_type": "markdown",
   "id": "f1d2fed2-5184-44b6-b62e-4e201814a46c",
   "metadata": {},
   "source": [
    "# Step 6 - Next Steps & Presentation\n"
   ]
  },
  {
   "cell_type": "markdown",
   "id": "4f4f5403-3cf2-48ba-88d8-f5095c776483",
   "metadata": {},
   "source": [
    "#### Next Steps\n",
    "- Repeat analyses for all cities\n",
    "- Create interactive dashboard (optional)\n",
    "- Design slides and narrative\n",
    "Data tells the story; you give it voice."
   ]
  },
  {
   "cell_type": "code",
   "execution_count": null,
   "id": "816dc9dd-628a-4e6c-a093-dc1fac21b478",
   "metadata": {},
   "outputs": [],
   "source": []
  },
  {
   "cell_type": "code",
   "execution_count": null,
   "id": "db94ac48-d91f-4f52-bce3-df940836e872",
   "metadata": {},
   "outputs": [],
   "source": []
  },
  {
   "cell_type": "code",
   "execution_count": null,
   "id": "614a557a-4edc-4a18-92ce-56f7fd32641c",
   "metadata": {},
   "outputs": [],
   "source": []
  },
  {
   "cell_type": "code",
   "execution_count": null,
   "id": "00c27e91-8e37-4013-9341-e2f3070e26b3",
   "metadata": {},
   "outputs": [],
   "source": []
  },
  {
   "cell_type": "code",
   "execution_count": null,
   "id": "3ea134ac-95ce-42d3-9399-f99a9e022622",
   "metadata": {},
   "outputs": [],
   "source": []
  }
 ],
 "metadata": {
  "kernelspec": {
   "display_name": "when_rain_returns",
   "language": "python",
   "name": "python3"
  },
  "language_info": {
   "codemirror_mode": {
    "name": "ipython",
    "version": 3
   },
   "file_extension": ".py",
   "mimetype": "text/x-python",
   "name": "python",
   "nbconvert_exporter": "python",
   "pygments_lexer": "ipython3",
   "version": "3.10.6"
  }
 },
 "nbformat": 4,
 "nbformat_minor": 5
}
